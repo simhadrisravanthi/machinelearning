{
 "cells": [
  {
   "cell_type": "markdown",
   "id": "ee27dd9b",
   "metadata": {
    "id": "ee27dd9b"
   },
   "source": [
    "# Homework: Decision Tree\n",
    "### Due Sun, November 5, 11:59 PM\n",
    "\n",
    "This homework is based on the materials covered in week 6 and 7 about decision tree algorithms.\n",
    "\n",
    "You will work with a dataset containing a bank's customer information. You will act as a Data scientist for the bank to build a model that will help the bank's marketing department to identify the potential customers who have a higher probability of purchasing a loan product.\n",
    "\n",
    "The dataset contains the following attributes:\n",
    "- ID: Customer ID\n",
    "- Age: Customer’s age in completed years\n",
    "- Experience: #years of professional experience\n",
    "- Income: Annual income of the customer (in thousand dollars)\n",
    "- ZIP Code: Home Address ZIP code.\n",
    "- Family: the Family size of the customer\n",
    "- CCAvg: Average spending on credit cards per month (in thousand dollars)\n",
    "- Education: Education Level. 1: Undergrad; 2: Graduate;3: Advanced/Professional\n",
    "- Mortgage: Value of house mortgage if any. (in thousand dollars)\n",
    "- Personal_Loan: Did this customer accept the personal loan offered in the last campaign?\n",
    "- Securities_Account: Does the customer have securities account with the bank?\n",
    "- CD_Account: Does the customer have a certificate of deposit (CD) account with the bank?\n",
    "- Online: Do customers use internet banking facilities?\n",
    "- CreditCard: Does the customer use a credit card issued by any other Bank (excluding All life Bank)?\n",
    "\n",
    "Please use Python as the coding language. You are free to use existing Python libraries. Please make sure your codes can run successfully, no points will be given for a question if the code fails to run."
   ]
  },
  {
   "cell_type": "markdown",
   "id": "225fedfc",
   "metadata": {
    "id": "225fedfc"
   },
   "source": [
    "### Preparation: load dataset\n",
    "Download the dataset 'bank_customer.csv' and store it in the same folder as this Jupyter notebook. Use the following codes to load the dataset."
   ]
  },
  {
   "cell_type": "code",
   "execution_count": 64,
   "id": "4f082096",
   "metadata": {
    "id": "4f082096"
   },
   "outputs": [
    {
     "name": "stdout",
     "output_type": "stream",
     "text": [
      "<class 'pandas.core.frame.DataFrame'>\n",
      "RangeIndex: 5000 entries, 0 to 4999\n",
      "Data columns (total 14 columns):\n",
      " #   Column              Non-Null Count  Dtype  \n",
      "---  ------              --------------  -----  \n",
      " 0   ID                  5000 non-null   int64  \n",
      " 1   Age                 5000 non-null   int64  \n",
      " 2   Experience          5000 non-null   int64  \n",
      " 3   Income              5000 non-null   int64  \n",
      " 4   ZIP Code            5000 non-null   int64  \n",
      " 5   Family              5000 non-null   int64  \n",
      " 6   CCAvg               5000 non-null   float64\n",
      " 7   Education           5000 non-null   int64  \n",
      " 8   Mortgage            5000 non-null   int64  \n",
      " 9   Personal Loan       5000 non-null   int64  \n",
      " 10  Securities Account  5000 non-null   int64  \n",
      " 11  CD Account          5000 non-null   int64  \n",
      " 12  Online              5000 non-null   int64  \n",
      " 13  CreditCard          5000 non-null   int64  \n",
      "dtypes: float64(1), int64(13)\n",
      "memory usage: 547.0 KB\n"
     ]
    }
   ],
   "source": [
    "import numpy as np\n",
    "import pandas as pd\n",
    "df = pd.read_csv('bank_customer.csv')\n",
    "df.info()"
   ]
  },
  {
   "cell_type": "markdown",
   "id": "57c28265",
   "metadata": {
    "id": "57c28265"
   },
   "source": [
    "To simplify the following analysis, we drop 'ID', 'ZIP Code', 'Family', 'Mortgage' columns from the dataframe."
   ]
  },
  {
   "cell_type": "code",
   "execution_count": 3,
   "id": "1ac0bda9",
   "metadata": {
    "id": "1ac0bda9"
   },
   "outputs": [
    {
     "name": "stdout",
     "output_type": "stream",
     "text": [
      "<class 'pandas.core.frame.DataFrame'>\n",
      "RangeIndex: 5000 entries, 0 to 4999\n",
      "Data columns (total 10 columns):\n",
      " #   Column              Non-Null Count  Dtype  \n",
      "---  ------              --------------  -----  \n",
      " 0   Age                 5000 non-null   int64  \n",
      " 1   Experience          5000 non-null   int64  \n",
      " 2   Income              5000 non-null   int64  \n",
      " 3   CCAvg               5000 non-null   float64\n",
      " 4   Education           5000 non-null   int64  \n",
      " 5   Personal Loan       5000 non-null   int64  \n",
      " 6   Securities Account  5000 non-null   int64  \n",
      " 7   CD Account          5000 non-null   int64  \n",
      " 8   Online              5000 non-null   int64  \n",
      " 9   CreditCard          5000 non-null   int64  \n",
      "dtypes: float64(1), int64(9)\n",
      "memory usage: 390.8 KB\n"
     ]
    }
   ],
   "source": [
    "df = pd.read_csv('bank_customer.csv')\n",
    "df = df.drop(['ID','ZIP Code','Family','Mortgage'],axis=1)\n",
    "df.info()"
   ]
  },
  {
   "cell_type": "markdown",
   "id": "3fc9ea73",
   "metadata": {
    "id": "3fc9ea73"
   },
   "source": [
    "### Q1. Understand the dataset (1 point)\n",
    "From the output from `df.info()`, we observe that this dataset contains records on 5000 customers and there is no missing data. The dataset contains a mix of numerical and categorical attributes, and all categorical data are represented with numbers. Note: you do not need to consider the 4 columns that have been dropped.\n",
    "\n",
    "1. Identify all categorical attributes, and use the proper command to report the number of unique values in each categorical column. (0.5 point)\n",
    "2. Identify all numerical attributes, and use the proper command to report the range and quartile of each numerical column. (0.5 point)"
   ]
  },
  {
   "cell_type": "markdown",
   "id": "25c2d4d1",
   "metadata": {
    "id": "25c2d4d1"
   },
   "source": [
    "*Space reserved for writing explanation for Q1.1*\n"
   ]
  },
  {
   "cell_type": "code",
   "execution_count": 46,
   "id": "88ae5a9c",
   "metadata": {
    "id": "88ae5a9c"
   },
   "outputs": [],
   "source": [
    "\n",
    "categorical_columns = df.select_dtypes(include=['object']).columns\n",
    "for column in categorical_columns:\n",
    "    unique_values = df[column].nunique()\n",
    "    print(f\"Column '{column}' has {unique_values} unique values.\")\n"
   ]
  },
  {
   "cell_type": "markdown",
   "id": "20c42851",
   "metadata": {
    "id": "20c42851"
   },
   "source": [
    "*Space reserved for writing explanation for Q1.2*\n"
   ]
  },
  {
   "cell_type": "code",
   "execution_count": 47,
   "id": "224d2f83",
   "metadata": {
    "id": "224d2f83"
   },
   "outputs": [
    {
     "name": "stdout",
     "output_type": "stream",
     "text": [
      "Column 'ID':\n",
      "Range: 4999\n",
      "25th Percentile (Q1): 1250.75\n",
      "Median (Q2): 2500.5\n",
      "75th Percentile (Q3): 3750.25\n",
      "Column 'Age':\n",
      "Range: 44\n",
      "25th Percentile (Q1): 35.0\n",
      "Median (Q2): 45.0\n",
      "75th Percentile (Q3): 55.0\n",
      "Column 'Experience':\n",
      "Range: 46\n",
      "25th Percentile (Q1): 10.0\n",
      "Median (Q2): 20.0\n",
      "75th Percentile (Q3): 30.0\n",
      "Column 'Income':\n",
      "Range: 216\n",
      "25th Percentile (Q1): 39.0\n",
      "Median (Q2): 64.0\n",
      "75th Percentile (Q3): 98.0\n",
      "Column 'ZIP Code':\n",
      "Range: 87344\n",
      "25th Percentile (Q1): 91911.0\n",
      "Median (Q2): 93437.0\n",
      "75th Percentile (Q3): 94608.0\n",
      "Column 'Family':\n",
      "Range: 3\n",
      "25th Percentile (Q1): 1.0\n",
      "Median (Q2): 2.0\n",
      "75th Percentile (Q3): 3.0\n",
      "Column 'CCAvg':\n",
      "Range: 10.0\n",
      "25th Percentile (Q1): 0.7\n",
      "Median (Q2): 1.5\n",
      "75th Percentile (Q3): 2.5\n",
      "Column 'Education':\n",
      "Range: 2\n",
      "25th Percentile (Q1): 1.0\n",
      "Median (Q2): 2.0\n",
      "75th Percentile (Q3): 3.0\n",
      "Column 'Mortgage':\n",
      "Range: 635\n",
      "25th Percentile (Q1): 0.0\n",
      "Median (Q2): 0.0\n",
      "75th Percentile (Q3): 101.0\n",
      "Column 'Personal Loan':\n",
      "Range: 1\n",
      "25th Percentile (Q1): 0.0\n",
      "Median (Q2): 0.0\n",
      "75th Percentile (Q3): 0.0\n",
      "Column 'Securities Account':\n",
      "Range: 1\n",
      "25th Percentile (Q1): 0.0\n",
      "Median (Q2): 0.0\n",
      "75th Percentile (Q3): 0.0\n",
      "Column 'CD Account':\n",
      "Range: 1\n",
      "25th Percentile (Q1): 0.0\n",
      "Median (Q2): 0.0\n",
      "75th Percentile (Q3): 0.0\n",
      "Column 'Online':\n",
      "Range: 1\n",
      "25th Percentile (Q1): 0.0\n",
      "Median (Q2): 1.0\n",
      "75th Percentile (Q3): 1.0\n",
      "Column 'CreditCard':\n",
      "Range: 1\n",
      "25th Percentile (Q1): 0.0\n",
      "Median (Q2): 0.0\n",
      "75th Percentile (Q3): 1.0\n"
     ]
    }
   ],
   "source": [
    "# Enter your code for Q1.2 here\n",
    "numerical_columns = df.select_dtypes(include=['int', 'float']).columns\n",
    "for column in numerical_columns:\n",
    "    column_range = df[column].max() - df[column].min()\n",
    "    quartiles = df[column].quantile([0.25, 0.5, 0.75])\n",
    "    print(f\"Column '{column}':\")\n",
    "    print(f\"Range: {column_range}\")\n",
    "    print(f\"25th Percentile (Q1): {quartiles[0.25]}\")\n",
    "    print(f\"Median (Q2): {quartiles[0.5]}\")\n",
    "    print(f\"75th Percentile (Q3): {quartiles[0.75]}\")\n",
    "\n"
   ]
  },
  {
   "cell_type": "markdown",
   "id": "a220e24c",
   "metadata": {
    "id": "a220e24c"
   },
   "source": [
    "### Q2. Create separate arrays to store features and target label (2 point)\n",
    "In this dataset, the target label is indicated in the column 'Personal Loan': a '1' value means the customer accepted a loan in the previous campaign, and a '0' values means the customer did not accept. We use all other columns as features to predict the classification in 'Personal Loan'.\n",
    "\n",
    "You need to create the following arrays.\n",
    "- X: stores all predictor variables\n",
    "- y: stores all target label\n",
    "\n",
    "For all numerical attributes, you need to encode them as categorical attributes based on the quartile. For example, for the 'Age' attribute, you need to encode it as a new attribute 'Age_cat':\n",
    "- Age_cat = 0, if Age <= Q1, where Q1 is the first quartile (25 percent value among all ages)\n",
    "- Age_cat = 1, if Age > Q1 and Age <= Q2, where Q2 is the second quartile (50 percent value among all ages)\n",
    "- Age_cat = 2, if Age > Q2 and Age <= Q3, where Q3 is the third quartile (75 percent value among all ages)\n",
    "- Age_cat = 3, if Age > Q3\n",
    "\n",
    "1. Create y (0.5 point)\n",
    "2. Create X and properly encode all numerical values (1.5 point) Note: after encoding, remember to drop the original numerical attributes. The shape of the generated X should be (5000,9)."
   ]
  },
  {
   "cell_type": "markdown",
   "id": "18a929ab",
   "metadata": {
    "id": "18a929ab"
   },
   "source": [
    "*Space reserved for writing explanation for Q2*\n"
   ]
  },
  {
   "cell_type": "code",
   "execution_count": 48,
   "id": "5ac00781",
   "metadata": {
    "id": "5ac00781"
   },
   "outputs": [],
   "source": [
    "# Enter your code for Q2.1 here\n",
    "y = df['Personal Loan']"
   ]
  },
  {
   "cell_type": "code",
   "execution_count": 49,
   "id": "45f84d30",
   "metadata": {
    "id": "45f84d30"
   },
   "outputs": [],
   "source": [
    "# Enter your code for Q2.2 here\n",
    "numerical_columns = df.select_dtypes(include=['int', 'float']).columns\n",
    "categorical_columns = df.select_dtypes(include=['object']).columns\n",
    "X = df[categorical_columns]  # Start with the categorical columns\n",
    "\n",
    "\n",
    "# Concatenate the one-hot encoded categorical columns with the target variable 'Personal Loan'\n",
    "X = pd.concat([X, df[numerical_columns]], axis=1)"
   ]
  },
  {
   "cell_type": "markdown",
   "id": "6e8c3cfe",
   "metadata": {
    "id": "6e8c3cfe"
   },
   "source": [
    "### Q3. Train and test a decision tree with 80/20 split (2 point)\n",
    "You will now train a decision tree on the dataset.\n",
    "\n",
    "1. Use the proper commands to split (X,y) into training set (80% of all data), and testing set (20% of all data). Use random_state=0 when creating the splits. (0.5 point)\n",
    "2. Use the proper commands to fit a decision tree model on the training set with 'Gini impurity' as splitting criterion, and 'random_state=123' in `scikit-learn`. (1 point)\n",
    "3. Use the proper commands to report the training and testing accuracy of the decision tree. (0.5 point)"
   ]
  },
  {
   "cell_type": "markdown",
   "id": "66625e74",
   "metadata": {
    "id": "66625e74"
   },
   "source": [
    "*Space reserved for writing explanation for Q3*\n"
   ]
  },
  {
   "cell_type": "code",
   "execution_count": 50,
   "id": "c0e9f657",
   "metadata": {
    "id": "c0e9f657"
   },
   "outputs": [],
   "source": [
    "# Enter your code for Q3.1 here\n",
    "from sklearn.model_selection import train_test_split\n",
    "\n",
    "# Split the data into training (80%) and testing (20%) sets\n",
    "X_train, X_test, y_train, y_test = train_test_split(X, y, test_size=0.2, random_state=0)"
   ]
  },
  {
   "cell_type": "code",
   "execution_count": 51,
   "id": "139df008",
   "metadata": {
    "id": "139df008"
   },
   "outputs": [
    {
     "data": {
      "text/html": [
       "<style>#sk-container-id-1 {color: black;}#sk-container-id-1 pre{padding: 0;}#sk-container-id-1 div.sk-toggleable {background-color: white;}#sk-container-id-1 label.sk-toggleable__label {cursor: pointer;display: block;width: 100%;margin-bottom: 0;padding: 0.3em;box-sizing: border-box;text-align: center;}#sk-container-id-1 label.sk-toggleable__label-arrow:before {content: \"▸\";float: left;margin-right: 0.25em;color: #696969;}#sk-container-id-1 label.sk-toggleable__label-arrow:hover:before {color: black;}#sk-container-id-1 div.sk-estimator:hover label.sk-toggleable__label-arrow:before {color: black;}#sk-container-id-1 div.sk-toggleable__content {max-height: 0;max-width: 0;overflow: hidden;text-align: left;background-color: #f0f8ff;}#sk-container-id-1 div.sk-toggleable__content pre {margin: 0.2em;color: black;border-radius: 0.25em;background-color: #f0f8ff;}#sk-container-id-1 input.sk-toggleable__control:checked~div.sk-toggleable__content {max-height: 200px;max-width: 100%;overflow: auto;}#sk-container-id-1 input.sk-toggleable__control:checked~label.sk-toggleable__label-arrow:before {content: \"▾\";}#sk-container-id-1 div.sk-estimator input.sk-toggleable__control:checked~label.sk-toggleable__label {background-color: #d4ebff;}#sk-container-id-1 div.sk-label input.sk-toggleable__control:checked~label.sk-toggleable__label {background-color: #d4ebff;}#sk-container-id-1 input.sk-hidden--visually {border: 0;clip: rect(1px 1px 1px 1px);clip: rect(1px, 1px, 1px, 1px);height: 1px;margin: -1px;overflow: hidden;padding: 0;position: absolute;width: 1px;}#sk-container-id-1 div.sk-estimator {font-family: monospace;background-color: #f0f8ff;border: 1px dotted black;border-radius: 0.25em;box-sizing: border-box;margin-bottom: 0.5em;}#sk-container-id-1 div.sk-estimator:hover {background-color: #d4ebff;}#sk-container-id-1 div.sk-parallel-item::after {content: \"\";width: 100%;border-bottom: 1px solid gray;flex-grow: 1;}#sk-container-id-1 div.sk-label:hover label.sk-toggleable__label {background-color: #d4ebff;}#sk-container-id-1 div.sk-serial::before {content: \"\";position: absolute;border-left: 1px solid gray;box-sizing: border-box;top: 0;bottom: 0;left: 50%;z-index: 0;}#sk-container-id-1 div.sk-serial {display: flex;flex-direction: column;align-items: center;background-color: white;padding-right: 0.2em;padding-left: 0.2em;position: relative;}#sk-container-id-1 div.sk-item {position: relative;z-index: 1;}#sk-container-id-1 div.sk-parallel {display: flex;align-items: stretch;justify-content: center;background-color: white;position: relative;}#sk-container-id-1 div.sk-item::before, #sk-container-id-1 div.sk-parallel-item::before {content: \"\";position: absolute;border-left: 1px solid gray;box-sizing: border-box;top: 0;bottom: 0;left: 50%;z-index: -1;}#sk-container-id-1 div.sk-parallel-item {display: flex;flex-direction: column;z-index: 1;position: relative;background-color: white;}#sk-container-id-1 div.sk-parallel-item:first-child::after {align-self: flex-end;width: 50%;}#sk-container-id-1 div.sk-parallel-item:last-child::after {align-self: flex-start;width: 50%;}#sk-container-id-1 div.sk-parallel-item:only-child::after {width: 0;}#sk-container-id-1 div.sk-dashed-wrapped {border: 1px dashed gray;margin: 0 0.4em 0.5em 0.4em;box-sizing: border-box;padding-bottom: 0.4em;background-color: white;}#sk-container-id-1 div.sk-label label {font-family: monospace;font-weight: bold;display: inline-block;line-height: 1.2em;}#sk-container-id-1 div.sk-label-container {text-align: center;}#sk-container-id-1 div.sk-container {/* jupyter's `normalize.less` sets `[hidden] { display: none; }` but bootstrap.min.css set `[hidden] { display: none !important; }` so we also need the `!important` here to be able to override the default hidden behavior on the sphinx rendered scikit-learn.org. See: https://github.com/scikit-learn/scikit-learn/issues/21755 */display: inline-block !important;position: relative;}#sk-container-id-1 div.sk-text-repr-fallback {display: none;}</style><div id=\"sk-container-id-1\" class=\"sk-top-container\"><div class=\"sk-text-repr-fallback\"><pre>DecisionTreeClassifier(random_state=123)</pre><b>In a Jupyter environment, please rerun this cell to show the HTML representation or trust the notebook. <br />On GitHub, the HTML representation is unable to render, please try loading this page with nbviewer.org.</b></div><div class=\"sk-container\" hidden><div class=\"sk-item\"><div class=\"sk-estimator sk-toggleable\"><input class=\"sk-toggleable__control sk-hidden--visually\" id=\"sk-estimator-id-1\" type=\"checkbox\" checked><label for=\"sk-estimator-id-1\" class=\"sk-toggleable__label sk-toggleable__label-arrow\">DecisionTreeClassifier</label><div class=\"sk-toggleable__content\"><pre>DecisionTreeClassifier(random_state=123)</pre></div></div></div></div></div>"
      ],
      "text/plain": [
       "DecisionTreeClassifier(random_state=123)"
      ]
     },
     "execution_count": 51,
     "metadata": {},
     "output_type": "execute_result"
    }
   ],
   "source": [
    "# Enter your code for Q3.2 here\n",
    "from sklearn.tree import DecisionTreeClassifier\n",
    "\n",
    "# Create and train a decision tree classifier\n",
    "decision_tree = DecisionTreeClassifier(criterion='gini', random_state=123)\n",
    "decision_tree.fit(X_train, y_train)"
   ]
  },
  {
   "cell_type": "code",
   "execution_count": 52,
   "id": "804ef98d",
   "metadata": {
    "id": "804ef98d"
   },
   "outputs": [
    {
     "name": "stdout",
     "output_type": "stream",
     "text": [
      "Training accuracy: 1.00\n",
      "Testing accuracy: 1.00\n"
     ]
    }
   ],
   "source": [
    "# Enter your code for Q3.3 here\n",
    "# Calculate training accuracy\n",
    "training_accuracy = decision_tree.score(X_train, y_train)\n",
    "\n",
    "# Calculate testing accuracy\n",
    "testing_accuracy = decision_tree.score(X_test, y_test)\n",
    "\n",
    "print(f\"Training accuracy: {training_accuracy:.2f}\")\n",
    "print(f\"Testing accuracy: {testing_accuracy:.2f}\")"
   ]
  },
  {
   "cell_type": "markdown",
   "id": "88a18e4d",
   "metadata": {
    "id": "88a18e4d"
   },
   "source": [
    "### Q4. Train and test a smaller decision tree (1 point)\n",
    "In the previous question, we did not impose any restriction on the size of the decision tree. For interpretability, it is often desirable to have a smaller decision tree. You will next train a smaller decision tree, and observe its performance. The same training and testing sets will be used.\n",
    "\n",
    "1. Use the proper commands to fit a decision tree with a maximum depth of 3 on the training set with 'Gini impurity' as splitting criterion, 'random_state=123'. (0.5 point)\n",
    "2. Use the proper commands to report the training and testing accuracy of the new decision tree. (0.5 point)"
   ]
  },
  {
   "cell_type": "markdown",
   "id": "ebfe9174",
   "metadata": {
    "id": "ebfe9174"
   },
   "source": [
    "*Space reserved for writing explanation for Q4*\n"
   ]
  },
  {
   "cell_type": "code",
   "execution_count": 53,
   "id": "fc5891c2",
   "metadata": {
    "id": "fc5891c2"
   },
   "outputs": [
    {
     "data": {
      "text/html": [
       "<style>#sk-container-id-2 {color: black;}#sk-container-id-2 pre{padding: 0;}#sk-container-id-2 div.sk-toggleable {background-color: white;}#sk-container-id-2 label.sk-toggleable__label {cursor: pointer;display: block;width: 100%;margin-bottom: 0;padding: 0.3em;box-sizing: border-box;text-align: center;}#sk-container-id-2 label.sk-toggleable__label-arrow:before {content: \"▸\";float: left;margin-right: 0.25em;color: #696969;}#sk-container-id-2 label.sk-toggleable__label-arrow:hover:before {color: black;}#sk-container-id-2 div.sk-estimator:hover label.sk-toggleable__label-arrow:before {color: black;}#sk-container-id-2 div.sk-toggleable__content {max-height: 0;max-width: 0;overflow: hidden;text-align: left;background-color: #f0f8ff;}#sk-container-id-2 div.sk-toggleable__content pre {margin: 0.2em;color: black;border-radius: 0.25em;background-color: #f0f8ff;}#sk-container-id-2 input.sk-toggleable__control:checked~div.sk-toggleable__content {max-height: 200px;max-width: 100%;overflow: auto;}#sk-container-id-2 input.sk-toggleable__control:checked~label.sk-toggleable__label-arrow:before {content: \"▾\";}#sk-container-id-2 div.sk-estimator input.sk-toggleable__control:checked~label.sk-toggleable__label {background-color: #d4ebff;}#sk-container-id-2 div.sk-label input.sk-toggleable__control:checked~label.sk-toggleable__label {background-color: #d4ebff;}#sk-container-id-2 input.sk-hidden--visually {border: 0;clip: rect(1px 1px 1px 1px);clip: rect(1px, 1px, 1px, 1px);height: 1px;margin: -1px;overflow: hidden;padding: 0;position: absolute;width: 1px;}#sk-container-id-2 div.sk-estimator {font-family: monospace;background-color: #f0f8ff;border: 1px dotted black;border-radius: 0.25em;box-sizing: border-box;margin-bottom: 0.5em;}#sk-container-id-2 div.sk-estimator:hover {background-color: #d4ebff;}#sk-container-id-2 div.sk-parallel-item::after {content: \"\";width: 100%;border-bottom: 1px solid gray;flex-grow: 1;}#sk-container-id-2 div.sk-label:hover label.sk-toggleable__label {background-color: #d4ebff;}#sk-container-id-2 div.sk-serial::before {content: \"\";position: absolute;border-left: 1px solid gray;box-sizing: border-box;top: 0;bottom: 0;left: 50%;z-index: 0;}#sk-container-id-2 div.sk-serial {display: flex;flex-direction: column;align-items: center;background-color: white;padding-right: 0.2em;padding-left: 0.2em;position: relative;}#sk-container-id-2 div.sk-item {position: relative;z-index: 1;}#sk-container-id-2 div.sk-parallel {display: flex;align-items: stretch;justify-content: center;background-color: white;position: relative;}#sk-container-id-2 div.sk-item::before, #sk-container-id-2 div.sk-parallel-item::before {content: \"\";position: absolute;border-left: 1px solid gray;box-sizing: border-box;top: 0;bottom: 0;left: 50%;z-index: -1;}#sk-container-id-2 div.sk-parallel-item {display: flex;flex-direction: column;z-index: 1;position: relative;background-color: white;}#sk-container-id-2 div.sk-parallel-item:first-child::after {align-self: flex-end;width: 50%;}#sk-container-id-2 div.sk-parallel-item:last-child::after {align-self: flex-start;width: 50%;}#sk-container-id-2 div.sk-parallel-item:only-child::after {width: 0;}#sk-container-id-2 div.sk-dashed-wrapped {border: 1px dashed gray;margin: 0 0.4em 0.5em 0.4em;box-sizing: border-box;padding-bottom: 0.4em;background-color: white;}#sk-container-id-2 div.sk-label label {font-family: monospace;font-weight: bold;display: inline-block;line-height: 1.2em;}#sk-container-id-2 div.sk-label-container {text-align: center;}#sk-container-id-2 div.sk-container {/* jupyter's `normalize.less` sets `[hidden] { display: none; }` but bootstrap.min.css set `[hidden] { display: none !important; }` so we also need the `!important` here to be able to override the default hidden behavior on the sphinx rendered scikit-learn.org. See: https://github.com/scikit-learn/scikit-learn/issues/21755 */display: inline-block !important;position: relative;}#sk-container-id-2 div.sk-text-repr-fallback {display: none;}</style><div id=\"sk-container-id-2\" class=\"sk-top-container\"><div class=\"sk-text-repr-fallback\"><pre>DecisionTreeClassifier(max_depth=3, random_state=123)</pre><b>In a Jupyter environment, please rerun this cell to show the HTML representation or trust the notebook. <br />On GitHub, the HTML representation is unable to render, please try loading this page with nbviewer.org.</b></div><div class=\"sk-container\" hidden><div class=\"sk-item\"><div class=\"sk-estimator sk-toggleable\"><input class=\"sk-toggleable__control sk-hidden--visually\" id=\"sk-estimator-id-2\" type=\"checkbox\" checked><label for=\"sk-estimator-id-2\" class=\"sk-toggleable__label sk-toggleable__label-arrow\">DecisionTreeClassifier</label><div class=\"sk-toggleable__content\"><pre>DecisionTreeClassifier(max_depth=3, random_state=123)</pre></div></div></div></div></div>"
      ],
      "text/plain": [
       "DecisionTreeClassifier(max_depth=3, random_state=123)"
      ]
     },
     "execution_count": 53,
     "metadata": {},
     "output_type": "execute_result"
    }
   ],
   "source": [
    "# Enter your code for Q4.1 here\n",
    "from sklearn.tree import DecisionTreeClassifier\n",
    "\n",
    "# Create and train a smaller decision tree with a maximum depth of 3\n",
    "small_decision_tree = DecisionTreeClassifier(criterion='gini', max_depth=3, random_state=123)\n",
    "small_decision_tree.fit(X_train, y_train)"
   ]
  },
  {
   "cell_type": "code",
   "execution_count": 54,
   "id": "fa492d84",
   "metadata": {
    "id": "fa492d84"
   },
   "outputs": [
    {
     "name": "stdout",
     "output_type": "stream",
     "text": [
      "Training accuracy (small tree): 1.00\n",
      "Testing accuracy (small tree): 1.00\n"
     ]
    }
   ],
   "source": [
    "# Enter your code for Q4.2 here\n",
    "# Calculate training accuracy for the smaller decision tree\n",
    "small_training_accuracy = small_decision_tree.score(X_train, y_train)\n",
    "\n",
    "# Calculate testing accuracy for the smaller decision tree\n",
    "small_testing_accuracy = small_decision_tree.score(X_test, y_test)\n",
    "\n",
    "print(f\"Training accuracy (small tree): {small_training_accuracy:.2f}\")\n",
    "print(f\"Testing accuracy (small tree): {small_testing_accuracy:.2f}\")"
   ]
  },
  {
   "cell_type": "markdown",
   "id": "f0f61070",
   "metadata": {
    "id": "f0f61070"
   },
   "source": [
    "### Q5. Use cross validation to tune a smaller decision tree (2 point)\n",
    "As we expect, restricting the size of the decision tree leads to a drop in accuracy. You will next use 5-fold cross validation on the training dataset to find the criterion and max_depth setup, which leads to the best validation accuracy, from the following range:\n",
    "- criterion is either Gini impurity or Information gain\n",
    "- max_depth is 2, 3 or 4\n",
    "\n",
    "1. Use GridSearchCV function to perform the cross validation and report the best parameter setup. (1 point)\n",
    "2. Train a new decision tree with the found best parameters on the same training data, then report training and testing accuracy of the new decision tree. (1 point)"
   ]
  },
  {
   "cell_type": "markdown",
   "id": "588e3c2a",
   "metadata": {
    "id": "588e3c2a"
   },
   "source": [
    "*Space reserved for writing explanation for Q5*\n"
   ]
  },
  {
   "cell_type": "code",
   "execution_count": 55,
   "id": "1eaae835",
   "metadata": {
    "id": "1eaae835"
   },
   "outputs": [
    {
     "name": "stdout",
     "output_type": "stream",
     "text": [
      "Best parameter setup: {'criterion': 'gini', 'max_depth': 2}\n"
     ]
    }
   ],
   "source": [
    "# Enter your code for Q5.1 here\n",
    "from sklearn.model_selection import GridSearchCV\n",
    "from sklearn.tree import DecisionTreeClassifier\n",
    "\n",
    "# Define the parameter grid to search\n",
    "param_grid = {\n",
    "    'criterion': ['gini', 'entropy'],\n",
    "    'max_depth': [2, 3, 4]\n",
    "}\n",
    "\n",
    "# Create a decision tree classifier\n",
    "decision_tree = DecisionTreeClassifier(random_state=123)\n",
    "\n",
    "# Create the GridSearchCV object\n",
    "grid_search = GridSearchCV(decision_tree, param_grid, cv=5, scoring='accuracy')\n",
    "\n",
    "# Fit the GridSearchCV on the training data\n",
    "grid_search.fit(X_train, y_train)\n",
    "\n",
    "# Report the best parameter setup\n",
    "best_params = grid_search.best_params_\n",
    "print(\"Best parameter setup:\", best_params)\n"
   ]
  },
  {
   "cell_type": "code",
   "execution_count": 56,
   "id": "017bbab2",
   "metadata": {
    "id": "017bbab2"
   },
   "outputs": [
    {
     "name": "stdout",
     "output_type": "stream",
     "text": [
      "Training accuracy (best decision tree): 1.00\n",
      "Testing accuracy (best decision tree): 1.00\n"
     ]
    }
   ],
   "source": [
    "# Enter your code for Q5.2 here\n",
    "# Train a new decision tree with the best parameters on the training data\n",
    "best_decision_tree = DecisionTreeClassifier(criterion=best_params['criterion'], max_depth=best_params['max_depth'], random_state=123)\n",
    "best_decision_tree.fit(X_train, y_train)\n",
    "\n",
    "# Calculate training accuracy for the best decision tree\n",
    "best_training_accuracy = best_decision_tree.score(X_train, y_train)\n",
    "\n",
    "# Calculate testing accuracy for the best decision tree\n",
    "best_testing_accuracy = best_decision_tree.score(X_test, y_test)\n",
    "\n",
    "print(f\"Training accuracy (best decision tree): {best_training_accuracy:.2f}\")\n",
    "print(f\"Testing accuracy (best decision tree): {best_testing_accuracy:.2f}\")"
   ]
  },
  {
   "cell_type": "markdown",
   "id": "31e78144",
   "metadata": {
    "id": "31e78144"
   },
   "source": [
    "### Q6. Visualize a decision tree, and make observations about decision rules (2 point)\n",
    "You will now visualize the decision tree created in Q5. You can use either the `plot_tree` function or the `export_graphviz` function. For both functions, to increase readability, use the following code to set feature and class label names in the generated figure:\n",
    "- `feature_names=X.columns, class_names=['Not Accept','Accept']`\n",
    "\n",
    "1. Visualize the decision tree trained in Q5 (1 point)\n",
    "2. Observe one decision rule from the generated tree (you can choose any rule based on your own tree), and report the support and confidence of the rule. (1 point)"
   ]
  },
  {
   "cell_type": "markdown",
   "id": "d7acea13",
   "metadata": {
    "id": "d7acea13"
   },
   "source": [
    "*Space reserved for writing explanation for Q6.1*\n"
   ]
  },
  {
   "cell_type": "code",
   "execution_count": 65,
   "id": "28309761",
   "metadata": {
    "id": "28309761"
   },
   "outputs": [],
   "source": [
    "\n",
    "# Enter your code for Q6.1\n",
    "from sklearn.tree import export_graphviz\n",
    "import graphviz\n",
    "\n",
    "# Set the feature and class label names\n",
    "feature_names = X.columns\n",
    "class_names = ['Not Accept', 'Accept']\n",
    "\n",
    "# Visualize the decision tree\n",
    "dot_data = export_graphviz(\n",
    "    best_decision_tree,\n",
    "    out_file=None,\n",
    "    feature_names=feature_names,\n",
    "    class_names=class_names,\n",
    "    filled=True,\n",
    "    rounded=True,\n",
    "    special_characters=True\n",
    ")"
   ]
  },
  {
   "cell_type": "markdown",
   "id": "93164b6a",
   "metadata": {
    "id": "93164b6a"
   },
   "source": [
    "*Space reserved for writing explanation for Q6.2*\n",
    "\n"
   ]
  },
  {
   "cell_type": "code",
   "execution_count": 66,
   "id": "37cf0f1f",
   "metadata": {},
   "outputs": [
    {
     "ename": "ExecutableNotFound",
     "evalue": "failed to execute WindowsPath('dot'), make sure the Graphviz executables are on your systems' PATH",
     "output_type": "error",
     "traceback": [
      "\u001b[1;31m---------------------------------------------------------------------------\u001b[0m",
      "\u001b[1;31mFileNotFoundError\u001b[0m                         Traceback (most recent call last)",
      "File \u001b[1;32m~\\anaconda3\\Lib\\site-packages\\graphviz\\backend\\execute.py:81\u001b[0m, in \u001b[0;36mrun_check\u001b[1;34m(cmd, input_lines, encoding, quiet, **kwargs)\u001b[0m\n\u001b[0;32m     80\u001b[0m     \u001b[38;5;28;01melse\u001b[39;00m:\n\u001b[1;32m---> 81\u001b[0m         proc \u001b[38;5;241m=\u001b[39m subprocess\u001b[38;5;241m.\u001b[39mrun(cmd, \u001b[38;5;241m*\u001b[39m\u001b[38;5;241m*\u001b[39mkwargs)\n\u001b[0;32m     82\u001b[0m \u001b[38;5;28;01mexcept\u001b[39;00m \u001b[38;5;167;01mOSError\u001b[39;00m \u001b[38;5;28;01mas\u001b[39;00m e:\n",
      "File \u001b[1;32m~\\anaconda3\\Lib\\subprocess.py:548\u001b[0m, in \u001b[0;36mrun\u001b[1;34m(input, capture_output, timeout, check, *popenargs, **kwargs)\u001b[0m\n\u001b[0;32m    546\u001b[0m     kwargs[\u001b[38;5;124m'\u001b[39m\u001b[38;5;124mstderr\u001b[39m\u001b[38;5;124m'\u001b[39m] \u001b[38;5;241m=\u001b[39m PIPE\n\u001b[1;32m--> 548\u001b[0m \u001b[38;5;28;01mwith\u001b[39;00m Popen(\u001b[38;5;241m*\u001b[39mpopenargs, \u001b[38;5;241m*\u001b[39m\u001b[38;5;241m*\u001b[39mkwargs) \u001b[38;5;28;01mas\u001b[39;00m process:\n\u001b[0;32m    549\u001b[0m     \u001b[38;5;28;01mtry\u001b[39;00m:\n",
      "File \u001b[1;32m~\\anaconda3\\Lib\\subprocess.py:1026\u001b[0m, in \u001b[0;36mPopen.__init__\u001b[1;34m(self, args, bufsize, executable, stdin, stdout, stderr, preexec_fn, close_fds, shell, cwd, env, universal_newlines, startupinfo, creationflags, restore_signals, start_new_session, pass_fds, user, group, extra_groups, encoding, errors, text, umask, pipesize, process_group)\u001b[0m\n\u001b[0;32m   1023\u001b[0m             \u001b[38;5;28mself\u001b[39m\u001b[38;5;241m.\u001b[39mstderr \u001b[38;5;241m=\u001b[39m io\u001b[38;5;241m.\u001b[39mTextIOWrapper(\u001b[38;5;28mself\u001b[39m\u001b[38;5;241m.\u001b[39mstderr,\n\u001b[0;32m   1024\u001b[0m                     encoding\u001b[38;5;241m=\u001b[39mencoding, errors\u001b[38;5;241m=\u001b[39merrors)\n\u001b[1;32m-> 1026\u001b[0m     \u001b[38;5;28mself\u001b[39m\u001b[38;5;241m.\u001b[39m_execute_child(args, executable, preexec_fn, close_fds,\n\u001b[0;32m   1027\u001b[0m                         pass_fds, cwd, env,\n\u001b[0;32m   1028\u001b[0m                         startupinfo, creationflags, shell,\n\u001b[0;32m   1029\u001b[0m                         p2cread, p2cwrite,\n\u001b[0;32m   1030\u001b[0m                         c2pread, c2pwrite,\n\u001b[0;32m   1031\u001b[0m                         errread, errwrite,\n\u001b[0;32m   1032\u001b[0m                         restore_signals,\n\u001b[0;32m   1033\u001b[0m                         gid, gids, uid, umask,\n\u001b[0;32m   1034\u001b[0m                         start_new_session, process_group)\n\u001b[0;32m   1035\u001b[0m \u001b[38;5;28;01mexcept\u001b[39;00m:\n\u001b[0;32m   1036\u001b[0m     \u001b[38;5;66;03m# Cleanup if the child failed starting.\u001b[39;00m\n",
      "File \u001b[1;32m~\\anaconda3\\Lib\\subprocess.py:1538\u001b[0m, in \u001b[0;36mPopen._execute_child\u001b[1;34m(self, args, executable, preexec_fn, close_fds, pass_fds, cwd, env, startupinfo, creationflags, shell, p2cread, p2cwrite, c2pread, c2pwrite, errread, errwrite, unused_restore_signals, unused_gid, unused_gids, unused_uid, unused_umask, unused_start_new_session, unused_process_group)\u001b[0m\n\u001b[0;32m   1537\u001b[0m \u001b[38;5;28;01mtry\u001b[39;00m:\n\u001b[1;32m-> 1538\u001b[0m     hp, ht, pid, tid \u001b[38;5;241m=\u001b[39m _winapi\u001b[38;5;241m.\u001b[39mCreateProcess(executable, args,\n\u001b[0;32m   1539\u001b[0m                              \u001b[38;5;66;03m# no special security\u001b[39;00m\n\u001b[0;32m   1540\u001b[0m                              \u001b[38;5;28;01mNone\u001b[39;00m, \u001b[38;5;28;01mNone\u001b[39;00m,\n\u001b[0;32m   1541\u001b[0m                              \u001b[38;5;28mint\u001b[39m(\u001b[38;5;129;01mnot\u001b[39;00m close_fds),\n\u001b[0;32m   1542\u001b[0m                              creationflags,\n\u001b[0;32m   1543\u001b[0m                              env,\n\u001b[0;32m   1544\u001b[0m                              cwd,\n\u001b[0;32m   1545\u001b[0m                              startupinfo)\n\u001b[0;32m   1546\u001b[0m \u001b[38;5;28;01mfinally\u001b[39;00m:\n\u001b[0;32m   1547\u001b[0m     \u001b[38;5;66;03m# Child is launched. Close the parent's copy of those pipe\u001b[39;00m\n\u001b[0;32m   1548\u001b[0m     \u001b[38;5;66;03m# handles that only the child should have open.  You need\u001b[39;00m\n\u001b[1;32m   (...)\u001b[0m\n\u001b[0;32m   1551\u001b[0m     \u001b[38;5;66;03m# pipe will not close when the child process exits and the\u001b[39;00m\n\u001b[0;32m   1552\u001b[0m     \u001b[38;5;66;03m# ReadFile will hang.\u001b[39;00m\n",
      "\u001b[1;31mFileNotFoundError\u001b[0m: [WinError 2] The system cannot find the file specified",
      "\nThe above exception was the direct cause of the following exception:\n",
      "\u001b[1;31mExecutableNotFound\u001b[0m                        Traceback (most recent call last)",
      "Cell \u001b[1;32mIn[66], line 3\u001b[0m\n\u001b[0;32m      1\u001b[0m graph \u001b[38;5;241m=\u001b[39m graphviz\u001b[38;5;241m.\u001b[39mSource(dot_data)\n\u001b[1;32m----> 3\u001b[0m graph\u001b[38;5;241m.\u001b[39mrender(\u001b[38;5;124m\"\u001b[39m\u001b[38;5;124mdecision_tree\u001b[39m\u001b[38;5;124m\"\u001b[39m)\n\u001b[0;32m      5\u001b[0m graph\u001b[38;5;241m.\u001b[39mview(\u001b[38;5;124m\"\u001b[39m\u001b[38;5;124mdecision_tree\u001b[39m\u001b[38;5;124m\"\u001b[39m)\n",
      "File \u001b[1;32m~\\anaconda3\\Lib\\site-packages\\graphviz\\_tools.py:171\u001b[0m, in \u001b[0;36mdeprecate_positional_args.<locals>.decorator.<locals>.wrapper\u001b[1;34m(*args, **kwargs)\u001b[0m\n\u001b[0;32m    162\u001b[0m     wanted \u001b[38;5;241m=\u001b[39m \u001b[38;5;124m'\u001b[39m\u001b[38;5;124m, \u001b[39m\u001b[38;5;124m'\u001b[39m\u001b[38;5;241m.\u001b[39mjoin(\u001b[38;5;124mf\u001b[39m\u001b[38;5;124m'\u001b[39m\u001b[38;5;132;01m{\u001b[39;00mname\u001b[38;5;132;01m}\u001b[39;00m\u001b[38;5;124m=\u001b[39m\u001b[38;5;132;01m{\u001b[39;00mvalue\u001b[38;5;132;01m!r}\u001b[39;00m\u001b[38;5;124m'\u001b[39m\n\u001b[0;32m    163\u001b[0m                        \u001b[38;5;28;01mfor\u001b[39;00m name, value \u001b[38;5;129;01min\u001b[39;00m deprecated\u001b[38;5;241m.\u001b[39mitems())\n\u001b[0;32m    164\u001b[0m     warnings\u001b[38;5;241m.\u001b[39mwarn(\u001b[38;5;124mf\u001b[39m\u001b[38;5;124m'\u001b[39m\u001b[38;5;124mThe signature of \u001b[39m\u001b[38;5;132;01m{\u001b[39;00mfunc\u001b[38;5;241m.\u001b[39m\u001b[38;5;18m__name__\u001b[39m\u001b[38;5;132;01m}\u001b[39;00m\u001b[38;5;124m will be reduced\u001b[39m\u001b[38;5;124m'\u001b[39m\n\u001b[0;32m    165\u001b[0m                   \u001b[38;5;124mf\u001b[39m\u001b[38;5;124m'\u001b[39m\u001b[38;5;124m to \u001b[39m\u001b[38;5;132;01m{\u001b[39;00msupported_number\u001b[38;5;132;01m}\u001b[39;00m\u001b[38;5;124m positional args\u001b[39m\u001b[38;5;124m'\u001b[39m\n\u001b[0;32m    166\u001b[0m                   \u001b[38;5;124mf\u001b[39m\u001b[38;5;124m'\u001b[39m\u001b[38;5;124m \u001b[39m\u001b[38;5;132;01m{\u001b[39;00m\u001b[38;5;28mlist\u001b[39m(supported)\u001b[38;5;132;01m}\u001b[39;00m\u001b[38;5;124m: pass \u001b[39m\u001b[38;5;132;01m{\u001b[39;00mwanted\u001b[38;5;132;01m}\u001b[39;00m\u001b[38;5;124m'\u001b[39m\n\u001b[0;32m    167\u001b[0m                   \u001b[38;5;124m'\u001b[39m\u001b[38;5;124m as keyword arg(s)\u001b[39m\u001b[38;5;124m'\u001b[39m,\n\u001b[0;32m    168\u001b[0m                   stacklevel\u001b[38;5;241m=\u001b[39mstacklevel,\n\u001b[0;32m    169\u001b[0m                   category\u001b[38;5;241m=\u001b[39mcategory)\n\u001b[1;32m--> 171\u001b[0m \u001b[38;5;28;01mreturn\u001b[39;00m func(\u001b[38;5;241m*\u001b[39margs, \u001b[38;5;241m*\u001b[39m\u001b[38;5;241m*\u001b[39mkwargs)\n",
      "File \u001b[1;32m~\\anaconda3\\Lib\\site-packages\\graphviz\\rendering.py:122\u001b[0m, in \u001b[0;36mRender.render\u001b[1;34m(self, filename, directory, view, cleanup, format, renderer, formatter, neato_no_op, quiet, quiet_view, outfile, engine, raise_if_result_exists, overwrite_source)\u001b[0m\n\u001b[0;32m    118\u001b[0m filepath \u001b[38;5;241m=\u001b[39m \u001b[38;5;28mself\u001b[39m\u001b[38;5;241m.\u001b[39msave(filename, directory\u001b[38;5;241m=\u001b[39mdirectory, skip_existing\u001b[38;5;241m=\u001b[39m\u001b[38;5;28;01mNone\u001b[39;00m)\n\u001b[0;32m    120\u001b[0m args\u001b[38;5;241m.\u001b[39mappend(filepath)\n\u001b[1;32m--> 122\u001b[0m rendered \u001b[38;5;241m=\u001b[39m \u001b[38;5;28mself\u001b[39m\u001b[38;5;241m.\u001b[39m_render(\u001b[38;5;241m*\u001b[39margs, \u001b[38;5;241m*\u001b[39m\u001b[38;5;241m*\u001b[39mkwargs)\n\u001b[0;32m    124\u001b[0m \u001b[38;5;28;01mif\u001b[39;00m cleanup:\n\u001b[0;32m    125\u001b[0m     log\u001b[38;5;241m.\u001b[39mdebug(\u001b[38;5;124m'\u001b[39m\u001b[38;5;124mdelete \u001b[39m\u001b[38;5;132;01m%r\u001b[39;00m\u001b[38;5;124m'\u001b[39m, filepath)\n",
      "File \u001b[1;32m~\\anaconda3\\Lib\\site-packages\\graphviz\\_tools.py:171\u001b[0m, in \u001b[0;36mdeprecate_positional_args.<locals>.decorator.<locals>.wrapper\u001b[1;34m(*args, **kwargs)\u001b[0m\n\u001b[0;32m    162\u001b[0m     wanted \u001b[38;5;241m=\u001b[39m \u001b[38;5;124m'\u001b[39m\u001b[38;5;124m, \u001b[39m\u001b[38;5;124m'\u001b[39m\u001b[38;5;241m.\u001b[39mjoin(\u001b[38;5;124mf\u001b[39m\u001b[38;5;124m'\u001b[39m\u001b[38;5;132;01m{\u001b[39;00mname\u001b[38;5;132;01m}\u001b[39;00m\u001b[38;5;124m=\u001b[39m\u001b[38;5;132;01m{\u001b[39;00mvalue\u001b[38;5;132;01m!r}\u001b[39;00m\u001b[38;5;124m'\u001b[39m\n\u001b[0;32m    163\u001b[0m                        \u001b[38;5;28;01mfor\u001b[39;00m name, value \u001b[38;5;129;01min\u001b[39;00m deprecated\u001b[38;5;241m.\u001b[39mitems())\n\u001b[0;32m    164\u001b[0m     warnings\u001b[38;5;241m.\u001b[39mwarn(\u001b[38;5;124mf\u001b[39m\u001b[38;5;124m'\u001b[39m\u001b[38;5;124mThe signature of \u001b[39m\u001b[38;5;132;01m{\u001b[39;00mfunc\u001b[38;5;241m.\u001b[39m\u001b[38;5;18m__name__\u001b[39m\u001b[38;5;132;01m}\u001b[39;00m\u001b[38;5;124m will be reduced\u001b[39m\u001b[38;5;124m'\u001b[39m\n\u001b[0;32m    165\u001b[0m                   \u001b[38;5;124mf\u001b[39m\u001b[38;5;124m'\u001b[39m\u001b[38;5;124m to \u001b[39m\u001b[38;5;132;01m{\u001b[39;00msupported_number\u001b[38;5;132;01m}\u001b[39;00m\u001b[38;5;124m positional args\u001b[39m\u001b[38;5;124m'\u001b[39m\n\u001b[0;32m    166\u001b[0m                   \u001b[38;5;124mf\u001b[39m\u001b[38;5;124m'\u001b[39m\u001b[38;5;124m \u001b[39m\u001b[38;5;132;01m{\u001b[39;00m\u001b[38;5;28mlist\u001b[39m(supported)\u001b[38;5;132;01m}\u001b[39;00m\u001b[38;5;124m: pass \u001b[39m\u001b[38;5;132;01m{\u001b[39;00mwanted\u001b[38;5;132;01m}\u001b[39;00m\u001b[38;5;124m'\u001b[39m\n\u001b[0;32m    167\u001b[0m                   \u001b[38;5;124m'\u001b[39m\u001b[38;5;124m as keyword arg(s)\u001b[39m\u001b[38;5;124m'\u001b[39m,\n\u001b[0;32m    168\u001b[0m                   stacklevel\u001b[38;5;241m=\u001b[39mstacklevel,\n\u001b[0;32m    169\u001b[0m                   category\u001b[38;5;241m=\u001b[39mcategory)\n\u001b[1;32m--> 171\u001b[0m \u001b[38;5;28;01mreturn\u001b[39;00m func(\u001b[38;5;241m*\u001b[39margs, \u001b[38;5;241m*\u001b[39m\u001b[38;5;241m*\u001b[39mkwargs)\n",
      "File \u001b[1;32m~\\anaconda3\\Lib\\site-packages\\graphviz\\backend\\rendering.py:324\u001b[0m, in \u001b[0;36mrender\u001b[1;34m(engine, format, filepath, renderer, formatter, neato_no_op, quiet, outfile, raise_if_result_exists, overwrite_filepath)\u001b[0m\n\u001b[0;32m    320\u001b[0m     \u001b[38;5;28;01mraise\u001b[39;00m exceptions\u001b[38;5;241m.\u001b[39mFileExistsError(\u001b[38;5;124mf\u001b[39m\u001b[38;5;124m'\u001b[39m\u001b[38;5;124moutput file exists: \u001b[39m\u001b[38;5;132;01m{\u001b[39;00mos\u001b[38;5;241m.\u001b[39mfspath(outfile)\u001b[38;5;132;01m!r}\u001b[39;00m\u001b[38;5;124m'\u001b[39m)\n\u001b[0;32m    322\u001b[0m cmd \u001b[38;5;241m+\u001b[39m\u001b[38;5;241m=\u001b[39m args\n\u001b[1;32m--> 324\u001b[0m execute\u001b[38;5;241m.\u001b[39mrun_check(cmd,\n\u001b[0;32m    325\u001b[0m                   cwd\u001b[38;5;241m=\u001b[39mfilepath\u001b[38;5;241m.\u001b[39mparent \u001b[38;5;28;01mif\u001b[39;00m filepath\u001b[38;5;241m.\u001b[39mparent\u001b[38;5;241m.\u001b[39mparts \u001b[38;5;28;01melse\u001b[39;00m \u001b[38;5;28;01mNone\u001b[39;00m,\n\u001b[0;32m    326\u001b[0m                   quiet\u001b[38;5;241m=\u001b[39mquiet,\n\u001b[0;32m    327\u001b[0m                   capture_output\u001b[38;5;241m=\u001b[39m\u001b[38;5;28;01mTrue\u001b[39;00m)\n\u001b[0;32m    329\u001b[0m \u001b[38;5;28;01mreturn\u001b[39;00m os\u001b[38;5;241m.\u001b[39mfspath(outfile)\n",
      "File \u001b[1;32m~\\anaconda3\\Lib\\site-packages\\graphviz\\backend\\execute.py:84\u001b[0m, in \u001b[0;36mrun_check\u001b[1;34m(cmd, input_lines, encoding, quiet, **kwargs)\u001b[0m\n\u001b[0;32m     82\u001b[0m \u001b[38;5;28;01mexcept\u001b[39;00m \u001b[38;5;167;01mOSError\u001b[39;00m \u001b[38;5;28;01mas\u001b[39;00m e:\n\u001b[0;32m     83\u001b[0m     \u001b[38;5;28;01mif\u001b[39;00m e\u001b[38;5;241m.\u001b[39merrno \u001b[38;5;241m==\u001b[39m errno\u001b[38;5;241m.\u001b[39mENOENT:\n\u001b[1;32m---> 84\u001b[0m         \u001b[38;5;28;01mraise\u001b[39;00m ExecutableNotFound(cmd) \u001b[38;5;28;01mfrom\u001b[39;00m \u001b[38;5;21;01me\u001b[39;00m\n\u001b[0;32m     85\u001b[0m     \u001b[38;5;28;01mraise\u001b[39;00m\n\u001b[0;32m     87\u001b[0m \u001b[38;5;28;01mif\u001b[39;00m \u001b[38;5;129;01mnot\u001b[39;00m quiet \u001b[38;5;129;01mand\u001b[39;00m proc\u001b[38;5;241m.\u001b[39mstderr:\n",
      "\u001b[1;31mExecutableNotFound\u001b[0m: failed to execute WindowsPath('dot'), make sure the Graphviz executables are on your systems' PATH"
     ]
    }
   ],
   "source": [
    "\n",
    "graph = graphviz.Source(dot_data)\n",
    "\n",
    "graph.render(\"decision_tree\")\n",
    "\n",
    "graph.view(\"decision_tree\")\n"
   ]
  },
  {
   "cell_type": "code",
   "execution_count": null,
   "id": "f412b366",
   "metadata": {},
   "outputs": [],
   "source": []
  }
 ],
 "metadata": {
  "colab": {
   "provenance": []
  },
  "kernelspec": {
   "display_name": "Python 3 (ipykernel)",
   "language": "python",
   "name": "python3"
  },
  "language_info": {
   "codemirror_mode": {
    "name": "ipython",
    "version": 3
   },
   "file_extension": ".py",
   "mimetype": "text/x-python",
   "name": "python",
   "nbconvert_exporter": "python",
   "pygments_lexer": "ipython3",
   "version": "3.11.4"
  }
 },
 "nbformat": 4,
 "nbformat_minor": 5
}
